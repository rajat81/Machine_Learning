{
 "cells": [
  {
   "cell_type": "markdown",
   "metadata": {},
   "source": [
    "# Convolutional Network"
   ]
  },
  {
   "cell_type": "markdown",
   "metadata": {},
   "source": [
    "## Sentiment Analysis"
   ]
  },
  {
   "cell_type": "code",
   "execution_count": 42,
   "metadata": {},
   "outputs": [],
   "source": [
    "import numpy as np\n",
    "import pandas as pd\n",
    "from keras.models import Sequential\n",
    "from keras.layers import Dense, Embedding\n",
    "from keras.layers import LSTM\n",
    "from keras.preprocessing.text import Tokenizer\n",
    "from keras.preprocessing.sequence import pad_sequences\n"
   ]
  },
  {
   "cell_type": "code",
   "execution_count": 43,
   "metadata": {},
   "outputs": [],
   "source": [
    "data = pd.read_csv(\"Restaurant_Reviews.tsv\",delimiter='\\t')"
   ]
  },
  {
   "cell_type": "code",
   "execution_count": 44,
   "metadata": {},
   "outputs": [
    {
     "data": {
      "text/html": [
       "<div>\n",
       "<style scoped>\n",
       "    .dataframe tbody tr th:only-of-type {\n",
       "        vertical-align: middle;\n",
       "    }\n",
       "\n",
       "    .dataframe tbody tr th {\n",
       "        vertical-align: top;\n",
       "    }\n",
       "\n",
       "    .dataframe thead th {\n",
       "        text-align: right;\n",
       "    }\n",
       "</style>\n",
       "<table border=\"1\" class=\"dataframe\">\n",
       "  <thead>\n",
       "    <tr style=\"text-align: right;\">\n",
       "      <th></th>\n",
       "      <th>Review</th>\n",
       "      <th>Liked</th>\n",
       "    </tr>\n",
       "  </thead>\n",
       "  <tbody>\n",
       "    <tr>\n",
       "      <th>0</th>\n",
       "      <td>Wow... Loved this place.</td>\n",
       "      <td>1</td>\n",
       "    </tr>\n",
       "    <tr>\n",
       "      <th>1</th>\n",
       "      <td>Crust is not good.</td>\n",
       "      <td>0</td>\n",
       "    </tr>\n",
       "    <tr>\n",
       "      <th>2</th>\n",
       "      <td>Not tasty and the texture was just nasty.</td>\n",
       "      <td>0</td>\n",
       "    </tr>\n",
       "    <tr>\n",
       "      <th>3</th>\n",
       "      <td>Stopped by during the late May bank holiday of...</td>\n",
       "      <td>1</td>\n",
       "    </tr>\n",
       "    <tr>\n",
       "      <th>4</th>\n",
       "      <td>The selection on the menu was great and so wer...</td>\n",
       "      <td>1</td>\n",
       "    </tr>\n",
       "  </tbody>\n",
       "</table>\n",
       "</div>"
      ],
      "text/plain": [
       "                                              Review  Liked\n",
       "0                           Wow... Loved this place.      1\n",
       "1                                 Crust is not good.      0\n",
       "2          Not tasty and the texture was just nasty.      0\n",
       "3  Stopped by during the late May bank holiday of...      1\n",
       "4  The selection on the menu was great and so wer...      1"
      ]
     },
     "execution_count": 44,
     "metadata": {},
     "output_type": "execute_result"
    }
   ],
   "source": [
    "data.head()"
   ]
  },
  {
   "cell_type": "code",
   "execution_count": 45,
   "metadata": {},
   "outputs": [
    {
     "name": "stdout",
     "output_type": "stream",
     "text": [
      "you can watch them preparing the delicious food!)\n"
     ]
    }
   ],
   "source": [
    "X = data['Review']\n",
    "y = data['Liked']\n",
    "\n",
    "print(max(X))"
   ]
  },
  {
   "cell_type": "code",
   "execution_count": 46,
   "metadata": {},
   "outputs": [],
   "source": [
    "tokenizer = Tokenizer(num_words = 1500)"
   ]
  },
  {
   "cell_type": "code",
   "execution_count": 47,
   "metadata": {},
   "outputs": [],
   "source": [
    "tokenizer.fit_on_texts(X)"
   ]
  },
  {
   "cell_type": "code",
   "execution_count": 48,
   "metadata": {},
   "outputs": [],
   "source": [
    "sequences = tokenizer.texts_to_sequences(X)\n",
    "data = pad_sequences(sequences,maxlen=500)"
   ]
  },
  {
   "cell_type": "code",
   "execution_count": 51,
   "metadata": {},
   "outputs": [],
   "source": [
    "# buolding model\n",
    "model = Sequential()\n",
    "model.add(Embedding(1500,128,input_length=500))\n",
    "model.add(LSTM(128,dropout=0.2,recurrent_dropout=0.2))\n",
    "model.add(Dense(1,activation='sigmoid'))\n",
    "\n",
    "model.compile(loss='binary_crossentropy',optimizer='adam',metrics=['accuracy'])"
   ]
  },
  {
   "cell_type": "code",
   "execution_count": 52,
   "metadata": {},
   "outputs": [
    {
     "name": "stdout",
     "output_type": "stream",
     "text": [
      "Train on 700 samples, validate on 300 samples\n",
      "Epoch 1/15\n",
      "700/700 [==============================] - 8s 11ms/step - loss: 0.6825 - acc: 0.5643 - val_loss: 0.7748 - val_acc: 0.3600\n",
      "Epoch 2/15\n",
      "700/700 [==============================] - 7s 10ms/step - loss: 0.6390 - acc: 0.6300 - val_loss: 0.6874 - val_acc: 0.4967\n",
      "Epoch 3/15\n",
      "700/700 [==============================] - 8s 11ms/step - loss: 0.5007 - acc: 0.8229 - val_loss: 0.5837 - val_acc: 0.7000\n",
      "Epoch 4/15\n",
      "700/700 [==============================] - 9s 13ms/step - loss: 0.2906 - acc: 0.9100 - val_loss: 0.5506 - val_acc: 0.7300\n",
      "Epoch 5/15\n",
      "700/700 [==============================] - 9s 13ms/step - loss: 0.1830 - acc: 0.9557 - val_loss: 0.5774 - val_acc: 0.7300\n",
      "Epoch 6/15\n",
      "700/700 [==============================] - 9s 13ms/step - loss: 0.0911 - acc: 0.9757 - val_loss: 0.7409 - val_acc: 0.7067\n",
      "Epoch 7/15\n",
      "700/700 [==============================] - 9s 13ms/step - loss: 0.0651 - acc: 0.9871 - val_loss: 0.6974 - val_acc: 0.7300\n",
      "Epoch 8/15\n",
      "700/700 [==============================] - 9s 13ms/step - loss: 0.0391 - acc: 0.9900 - val_loss: 0.8652 - val_acc: 0.7267\n",
      "Epoch 9/15\n",
      "700/700 [==============================] - 9s 13ms/step - loss: 0.0228 - acc: 0.9971 - val_loss: 0.8502 - val_acc: 0.7600\n",
      "Epoch 10/15\n",
      "700/700 [==============================] - 9s 13ms/step - loss: 0.0222 - acc: 0.9929 - val_loss: 0.8721 - val_acc: 0.7467\n",
      "Epoch 11/15\n",
      "700/700 [==============================] - 9s 13ms/step - loss: 0.0144 - acc: 1.0000 - val_loss: 1.0168 - val_acc: 0.7500\n",
      "Epoch 12/15\n",
      "700/700 [==============================] - 9s 13ms/step - loss: 0.0183 - acc: 0.9971 - val_loss: 0.9065 - val_acc: 0.7333\n",
      "Epoch 13/15\n",
      "700/700 [==============================] - 9s 13ms/step - loss: 0.0182 - acc: 0.9971 - val_loss: 0.8520 - val_acc: 0.7567\n",
      "Epoch 14/15\n",
      "700/700 [==============================] - 10s 14ms/step - loss: 0.0277 - acc: 0.9971 - val_loss: 1.0622 - val_acc: 0.7033\n",
      "Epoch 15/15\n",
      "700/700 [==============================] - 9s 12ms/step - loss: 0.0171 - acc: 0.9943 - val_loss: 0.9574 - val_acc: 0.7667\n"
     ]
    },
    {
     "data": {
      "text/plain": [
       "[0.3124039675295353, 0.915]"
      ]
     },
     "execution_count": 52,
     "metadata": {},
     "output_type": "execute_result"
    }
   ],
   "source": [
    "\n",
    "\n",
    "from sklearn.cross_validation import train_test_split\n",
    "X_train, X_test, y_train, y_test = train_test_split(data, np.array(y), test_size = 0.20, random_state = 0)\n",
    "\n",
    "\n",
    "# Fitting and Evaluating the Model\n",
    "model.fit(data,np.array(y), validation_split=0.3, epochs=15)\n",
    "\n",
    "model.evaluate(x=X_test, y=y_test, batch_size=None, verbose=3, sample_weight=None, steps=None)\n",
    "\n"
   ]
  },
  {
   "cell_type": "code",
   "execution_count": 53,
   "metadata": {},
   "outputs": [
    {
     "name": "stdout",
     "output_type": "stream",
     "text": [
      "[[0.8721303]]\n"
     ]
    }
   ],
   "source": [
    "new_review = [\"The FOOD was great! Everything from starters to main course was fresh and flavourful. The Biryani was simply mind blowing! It truly feels like Paradise!The rice was fragrant and moist, it blends in with the spices and the meat causing an explosion of spicy flavor in one's mouth.\"]\n",
    "\n",
    "sequences = tokenizer.texts_to_sequences(new_review)\n",
    "data = pad_sequences(sequences,maxlen=500)\n",
    "\n",
    "predictions = model.predict(data)\n",
    "print(predictions)"
   ]
  },
  {
   "cell_type": "code",
   "execution_count": 54,
   "metadata": {},
   "outputs": [
    {
     "name": "stdout",
     "output_type": "stream",
     "text": [
      "[[0.0203095]]\n"
     ]
    }
   ],
   "source": [
    "new_review = [\"Food was bad, I would definitely not recommend this Restaurant\"]\n",
    "sequences = tokenizer.texts_to_sequences(new_review)\n",
    "data = pad_sequences(sequences, maxlen=500)\n",
    "\n",
    "# get predictions for each of your new texts\n",
    "predictions = model.predict(data)\n",
    "print(predictions)"
   ]
  },
  {
   "cell_type": "code",
   "execution_count": 58,
   "metadata": {},
   "outputs": [],
   "source": [
    "import pickle\n",
    "\n",
    "filename = 'Sentiment_analysis/finalized_model.sav'\n",
    "pickle.dump(model, open(filename, 'wb'))"
   ]
  },
  {
   "cell_type": "code",
   "execution_count": 59,
   "metadata": {},
   "outputs": [],
   "source": [
    "predictions = 0"
   ]
  },
  {
   "cell_type": "code",
   "execution_count": 60,
   "metadata": {},
   "outputs": [
    {
     "name": "stdout",
     "output_type": "stream",
     "text": [
      "[[0.0203095]]\n"
     ]
    }
   ],
   "source": [
    "loaded_model = pickle.load(open(filename, 'rb'))\n",
    "sequences = tokenizer.texts_to_sequences(new_review)\n",
    "data = pad_sequences(sequences, maxlen=500)\n",
    "\n",
    "# get predictions for each of your new texts\n",
    "predictions = model.predict(data)\n",
    "print(predictions)"
   ]
  },
  {
   "cell_type": "code",
   "execution_count": null,
   "metadata": {},
   "outputs": [],
   "source": []
  }
 ],
 "metadata": {
  "kernelspec": {
   "display_name": "Python 3",
   "language": "python",
   "name": "python3"
  },
  "language_info": {
   "codemirror_mode": {
    "name": "ipython",
    "version": 3
   },
   "file_extension": ".py",
   "mimetype": "text/x-python",
   "name": "python",
   "nbconvert_exporter": "python",
   "pygments_lexer": "ipython3",
   "version": "3.7.0"
  }
 },
 "nbformat": 4,
 "nbformat_minor": 2
}
